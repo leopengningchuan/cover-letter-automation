{
 "cells": [
  {
   "cell_type": "markdown",
   "id": "0a93f796-8609-4c89-b83e-b491f8813242",
   "metadata": {},
   "source": [
    "# Coverletter"
   ]
  },
  {
   "cell_type": "code",
   "execution_count": null,
   "id": "c8bb75be-fc0b-4a38-b82e-53cff8604de4",
   "metadata": {},
   "outputs": [],
   "source": [
    "# import packages\n",
    "from datetime import datetime\n",
    "import json, os, dotenv\n",
    "\n",
    "from utils.docx_utils import populate_docx_paragraph\n",
    "from utils.pdf_utils import convert_docx_pdf"
   ]
  },
  {
   "cell_type": "code",
   "execution_count": null,
   "id": "52558a32-0040-4eb1-86ec-334273131c8e",
   "metadata": {},
   "outputs": [],
   "source": [
    "# read the skill set json\n",
    "with open('skill_set.json', 'r', encoding='utf-8') as f:\n",
    "    skill_set_dict = json.load(f)\n",
    "\n",
    "print(skill_set_dict.keys())"
   ]
  },
  {
   "cell_type": "code",
   "execution_count": null,
   "id": "cda57b2e-638a-44c4-984f-fff616579eeb",
   "metadata": {},
   "outputs": [],
   "source": [
    "# create the function for generating the information for coverletter\n",
    "def get_coverletter_info(company_name, position_name, need_skill_seq):\n",
    "\n",
    "    cl_dict = {'LONG_DATE': datetime.today().strftime(\"%b. %d, %Y\"), 'COMPANY': company_name, 'POSITION': position_name.lower()}\n",
    "    \n",
    "    # for skill set\n",
    "    i = 1\n",
    "    for skill in need_skill_seq:\n",
    "        cl_dict[f'SKILL_{i}'] = need_skill_seq[i-1]\n",
    "        cl_dict[f'SKILL_DETAILS_{i}'] = skill_set_dict[need_skill_seq[i-1]]\n",
    "        i += 1\n",
    "\n",
    "    return cl_dict"
   ]
  },
  {
   "cell_type": "code",
   "execution_count": null,
   "id": "40bf2e1d-7398-48e2-b3dd-72f91814cc6d",
   "metadata": {},
   "outputs": [],
   "source": [
    "# import the docx name and saved path\n",
    "dotenv.load_dotenv(\"../personal_envs/cover-letter-automation_saved_path.env\", override=True)\n",
    "doc_name, saved_path = os.getenv(\"doc_name\"), os.getenv(\"saved_path\")\n",
    "coverletter_doc_name = saved_path + '/' + doc_name"
   ]
  },
  {
   "cell_type": "code",
   "execution_count": null,
   "id": "13944772-dfa1-468b-967e-456e6ec45b15",
   "metadata": {},
   "outputs": [],
   "source": [
    "# get the data from job description: company name and position name\n",
    "company_name, position_name = \"ABC Company\", \"Data Analyst\"\n",
    "\n",
    "# choose 3 skill from the skill set\n",
    "need_skill_seq = ['Analytical Ability', 'Programming Skills', 'Soft Skills']\n",
    "\n",
    "# get the dictionary for cover letter information\n",
    "coverletter_dict = get_coverletter_info(company_name, position_name, need_skill_seq)\n",
    "\n",
    "# replace the coverletter information in the word template\n",
    "populate_docx_paragraph(coverletter_dict, 'cover_letter_prototype.docx', coverletter_doc_name)\n",
    "    \n",
    "# convert the docx to pdf and remove the docx\n",
    "convert_docx_pdf(coverletter_doc_name, keep = True)"
   ]
  },
  {
   "cell_type": "markdown",
   "id": "5f65ec55-6e0f-4597-8657-a102d990bd02",
   "metadata": {},
   "source": [
    "# Sending Message"
   ]
  },
  {
   "cell_type": "code",
   "execution_count": null,
   "id": "7b7b4763-83cc-4737-8641-6bd453336a85",
   "metadata": {},
   "outputs": [],
   "source": [
    "ask_referral = '''Hi [Name]! I am Leo, a financial analyst currently working at Luminys in CA. I came across the [Role] at [Company] and am interested in this role. Given your experience and role at the company, your insights would be valuable to me. Would you please share some insights and be my referral? Thank you!'''\n",
    "\n",
    "ask_recruiter = '''Hi [Name]! I am Leo, currently employed as a financial analyst at Luminys in Irvine, CA. I recently discovered the [Role] opening at [Company] and am interested in learning more about the opportunity. Please let me know if you are interested in discussing my qualifications further. Thank you!'''"
   ]
  },
  {
   "cell_type": "code",
   "execution_count": null,
   "id": "2c4b492f-1739-437e-83c4-7a9132eb5750",
   "metadata": {},
   "outputs": [],
   "source": [
    "def get_message(name, role, company, kind = 'referral'):\n",
    "    if kind == 'referral':\n",
    "        base = ask_referral\n",
    "    else:\n",
    "        base = ask_recruiter    \n",
    "    \n",
    "    message = base.replace('[Name]', name).replace('[Role]', role.lower()).replace('[Company]', company)\n",
    "    \n",
    "    if kind == 'referral':\n",
    "        if len(message) <= 300:\n",
    "            pass\n",
    "        elif len(message) <= 303:\n",
    "            message = message.replace('Thank you!', 'Thanks!')\n",
    "        elif len(message) <= 304:\n",
    "            message = message.replace('Thank you!', 'Thanks')\n",
    "        elif len(message) <= 310:\n",
    "            message = message.replace(' currently', '')\n",
    "        elif len(message) <= 315:\n",
    "            message = message.replace(' currently', '').replace('Thank you!', 'Thanks!')\n",
    "#         else: \n",
    "#             raise Exception(\"Sorry, the message is too long, please double check.\")\n",
    "        return message\n",
    "    else:\n",
    "        return message"
   ]
  },
  {
   "cell_type": "code",
   "execution_count": null,
   "id": "083b6dab-0a0a-49ad-98f6-0f3a886a654c",
   "metadata": {},
   "outputs": [],
   "source": [
    "test = get_message('Kristen', 'Data Analyst', 'LVT', kind = 'referral')\n",
    "\n",
    "print('----')\n",
    "print('message length:', len(test))\n",
    "print(test)"
   ]
  },
  {
   "cell_type": "code",
   "execution_count": null,
   "id": "969db64d-d63e-4980-a858-651fe86d998c",
   "metadata": {},
   "outputs": [],
   "source": [
    "test2 = get_message('Venkatesh', 'Data Analyst', 'Intellectt Inc', kind = 'hr')\n",
    "\n",
    "print('----')\n",
    "print('message length:', len(test2))\n",
    "print(test2)"
   ]
  },
  {
   "cell_type": "code",
   "execution_count": null,
   "id": "bbde44e8-4a58-4eaa-bd6a-224c6684d504",
   "metadata": {},
   "outputs": [],
   "source": []
  }
 ],
 "metadata": {
  "kernelspec": {
   "display_name": "Python 3 (ipykernel)",
   "language": "python",
   "name": "python3"
  },
  "language_info": {
   "codemirror_mode": {
    "name": "ipython",
    "version": 3
   },
   "file_extension": ".py",
   "mimetype": "text/x-python",
   "name": "python",
   "nbconvert_exporter": "python",
   "pygments_lexer": "ipython3",
   "version": "3.12.7"
  }
 },
 "nbformat": 4,
 "nbformat_minor": 5
}
