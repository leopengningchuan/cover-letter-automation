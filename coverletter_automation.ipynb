{
 "cells": [
  {
   "cell_type": "code",
   "execution_count": 8,
   "id": "c8bb75be-fc0b-4a38-b82e-53cff8604de4",
   "metadata": {},
   "outputs": [],
   "source": [
    "# import packages\n",
    "from datetime import datetime\n",
    "\n",
    "from utils.docx_manipulate import populate_docx_paragraph, convert_docx_pdf"
   ]
  },
  {
   "cell_type": "code",
   "execution_count": 13,
   "id": "40bf2e1d-7398-48e2-b3dd-72f91814cc6d",
   "metadata": {},
   "outputs": [],
   "source": [
    "# get the data from job description\n",
    "company_name, position_name = \"LVT\", \"Data Analyst\"\n",
    "coverletter_doc_name = 'Cover Letter_Ningchuan(Leo) Peng.docx'"
   ]
  },
  {
   "cell_type": "code",
   "execution_count": 14,
   "id": "360d5871-ff83-4bb7-b29a-0afe392a574d",
   "metadata": {},
   "outputs": [],
   "source": [
    "# generate the information for coverletter\n",
    "cl_dict = {'LONG_DATE': datetime.today().strftime(\"%b. %d, %Y\"), 'COMPANY': company_name, 'POSITION': position_name.lower()}"
   ]
  },
  {
   "cell_type": "code",
   "execution_count": 16,
   "id": "13944772-dfa1-468b-967e-456e6ec45b15",
   "metadata": {},
   "outputs": [
    {
     "name": "stdout",
     "output_type": "stream",
     "text": [
      "---------- Cover Letter_Ningchuan(Leo) Peng.docx generated successfully.\n"
     ]
    },
    {
     "data": {
      "application/vnd.jupyter.widget-view+json": {
       "model_id": "aed9176517ac406d9fbc9b3e74c39c85",
       "version_major": 2,
       "version_minor": 0
      },
      "text/plain": [
       "  0%|          | 0/1 [00:00<?, ?it/s]"
      ]
     },
     "metadata": {},
     "output_type": "display_data"
    },
    {
     "name": "stdout",
     "output_type": "stream",
     "text": [
      "---------- Cover Letter_Ningchuan(Leo) Peng.docx converted to PDF successfully, original docx file kept.\n"
     ]
    }
   ],
   "source": [
    "# replace the coverletter information in the word template\n",
    "populate_docx_paragraph(cl_dict, 'cover_letter_prototype.docx', coverletter_doc_name)\n",
    "    \n",
    "# convert the docx to pdf and remove the docx\n",
    "convert_docx_pdf(coverletter_doc_name, keep = True)"
   ]
  },
  {
   "cell_type": "code",
   "execution_count": null,
   "id": "51ed0c68-f0e2-4851-814d-749902467a49",
   "metadata": {},
   "outputs": [],
   "source": []
  }
 ],
 "metadata": {
  "kernelspec": {
   "display_name": "Python 3 (ipykernel)",
   "language": "python",
   "name": "python3"
  },
  "language_info": {
   "codemirror_mode": {
    "name": "ipython",
    "version": 3
   },
   "file_extension": ".py",
   "mimetype": "text/x-python",
   "name": "python",
   "nbconvert_exporter": "python",
   "pygments_lexer": "ipython3",
   "version": "3.12.7"
  }
 },
 "nbformat": 4,
 "nbformat_minor": 5
}
