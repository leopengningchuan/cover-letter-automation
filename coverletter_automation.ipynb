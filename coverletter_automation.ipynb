{
 "cells": [
  {
   "cell_type": "markdown",
   "id": "0a93f796-8609-4c89-b83e-b491f8813242",
   "metadata": {},
   "source": [
    "# Coverletter"
   ]
  },
  {
   "cell_type": "code",
   "execution_count": null,
   "id": "c8bb75be-fc0b-4a38-b82e-53cff8604de4",
   "metadata": {},
   "outputs": [],
   "source": [
    "# import packages\n",
    "from datetime import datetime\n",
    "\n",
    "from utils.docx_manipulate import populate_docx_paragraph, convert_docx_pdf"
   ]
  },
  {
   "cell_type": "code",
   "execution_count": null,
   "id": "40bf2e1d-7398-48e2-b3dd-72f91814cc6d",
   "metadata": {},
   "outputs": [],
   "source": [
    "# get the data from job description\n",
    "company_name, position_name = \"Test comapny\", \"Data Analyst\"\n",
    "doc_name = 'Cover Letter_Ningchuan(Leo) Peng.docx'\n",
    "save_path = '/Users/leopeng/Documents/Work/Job Related/Resume CV Documents'\n",
    "coverletter_doc_name = save_path + '/' + doc_name"
   ]
  },
  {
   "cell_type": "code",
   "execution_count": null,
   "id": "36dccff5-ced5-406e-93a9-a20f77a292d4",
   "metadata": {},
   "outputs": [],
   "source": [
    "coverletter_doc_name"
   ]
  },
  {
   "cell_type": "code",
   "execution_count": null,
   "id": "360d5871-ff83-4bb7-b29a-0afe392a574d",
   "metadata": {},
   "outputs": [],
   "source": [
    "# generate the information for coverletter\n",
    "cl_dict = {'LONG_DATE': datetime.today().strftime(\"%b. %d, %Y\"), 'COMPANY': company_name, 'POSITION': position_name.lower()}"
   ]
  },
  {
   "cell_type": "code",
   "execution_count": null,
   "id": "13944772-dfa1-468b-967e-456e6ec45b15",
   "metadata": {},
   "outputs": [],
   "source": [
    "# replace the coverletter information in the word template\n",
    "populate_docx_paragraph(cl_dict, 'cover_letter_prototype.docx', coverletter_doc_name)\n",
    "    \n",
    "# convert the docx to pdf and remove the docx\n",
    "convert_docx_pdf(coverletter_doc_name, keep = True)"
   ]
  },
  {
   "cell_type": "markdown",
   "id": "5f65ec55-6e0f-4597-8657-a102d990bd02",
   "metadata": {},
   "source": [
    "# Sending Message"
   ]
  },
  {
   "cell_type": "code",
   "execution_count": null,
   "id": "7b7b4763-83cc-4737-8641-6bd453336a85",
   "metadata": {},
   "outputs": [],
   "source": [
    "ask_referral = '''Hi [Name]! I am Leo, a financial analyst currently working at Luminys in CA. I came across the [Role] at [Company] and am interested in this role. Given your experience and role at the company, your insights would be valuable to me. Would you please share some insights and be my referral? Thank you!'''\n",
    "\n",
    "ask_recruiter = '''Hi [Name]! I am Leo, currently employed as a financial analyst at Luminys in Irvine, CA. I recently discovered the [Role] opening at [Company] and am interested in learning more about the opportunity. Please let me know if you are interested in discussing my qualifications further. Thank you!'''"
   ]
  },
  {
   "cell_type": "code",
   "execution_count": null,
   "id": "2c4b492f-1739-437e-83c4-7a9132eb5750",
   "metadata": {},
   "outputs": [],
   "source": [
    "def get_message(name, role, company, kind = 'referral'):\n",
    "    if kind == 'referral':\n",
    "        base = ask_referral\n",
    "    else:\n",
    "        base = ask_recruiter    \n",
    "    \n",
    "    message = base.replace('[Name]', name).replace('[Role]', role.lower()).replace('[Company]', company)\n",
    "    \n",
    "    if kind == 'referral':\n",
    "        if len(message) <= 300:\n",
    "            pass\n",
    "        elif len(message) <= 303:\n",
    "            message = message.replace('Thank you!', 'Thanks!')\n",
    "        elif len(message) <= 304:\n",
    "            message = message.replace('Thank you!', 'Thanks')\n",
    "        elif len(message) <= 310:\n",
    "            message = message.replace(' currently', '')\n",
    "        elif len(message) <= 315:\n",
    "            message = message.replace(' currently', '').replace('Thank you!', 'Thanks!')\n",
    "#         else: \n",
    "#             raise Exception(\"Sorry, the message is too long, please double check.\")\n",
    "        return message\n",
    "    else:\n",
    "        return message"
   ]
  },
  {
   "cell_type": "code",
   "execution_count": null,
   "id": "083b6dab-0a0a-49ad-98f6-0f3a886a654c",
   "metadata": {},
   "outputs": [],
   "source": [
    "test = get_message('Kristen', 'Data Analyst', 'LVT', kind = 'referral')\n",
    "\n",
    "print('----')\n",
    "print('message length:', len(test))\n",
    "print(test)"
   ]
  },
  {
   "cell_type": "code",
   "execution_count": null,
   "id": "969db64d-d63e-4980-a858-651fe86d998c",
   "metadata": {},
   "outputs": [],
   "source": [
    "test2 = get_message('Venkatesh', 'Data Analyst', 'Intellectt Inc', kind = 'hr')\n",
    "\n",
    "print('----')\n",
    "print('message length:', len(test2))\n",
    "print(test2)"
   ]
  },
  {
   "cell_type": "code",
   "execution_count": null,
   "id": "bbde44e8-4a58-4eaa-bd6a-224c6684d504",
   "metadata": {},
   "outputs": [],
   "source": []
  }
 ],
 "metadata": {
  "kernelspec": {
   "display_name": "Python 3 (ipykernel)",
   "language": "python",
   "name": "python3"
  },
  "language_info": {
   "codemirror_mode": {
    "name": "ipython",
    "version": 3
   },
   "file_extension": ".py",
   "mimetype": "text/x-python",
   "name": "python",
   "nbconvert_exporter": "python",
   "pygments_lexer": "ipython3",
   "version": "3.12.7"
  }
 },
 "nbformat": 4,
 "nbformat_minor": 5
}
